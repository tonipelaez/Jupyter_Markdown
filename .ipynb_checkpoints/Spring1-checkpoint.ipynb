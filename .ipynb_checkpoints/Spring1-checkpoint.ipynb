{
 "cells": [
  {
   "cell_type": "markdown",
   "id": "fd6c9ff2",
   "metadata": {},
   "source": [
    "# titulo\n",
    "## titulillo\n",
    "### titu\n",
    "#### menos\n",
    "###### el mínimo titulo"
   ]
  },
  {
   "cell_type": "markdown",
   "id": "2c4cecf9",
   "metadata": {},
   "source": [
    "# Encabezado\n",
    "\n",
    "## subtitulo\n"
   ]
  },
  {
   "cell_type": "markdown",
   "id": "f80864f8",
   "metadata": {},
   "source": [
    "Lista de cosas\n",
    "- la primera\n",
    "- la segunda\n",
    "- la tercera"
   ]
  },
  {
   "cell_type": "markdown",
   "id": "de3cb6ac",
   "metadata": {},
   "source": [
    "lista de cosas\n",
    "1. la primera\n",
    "2. la segunda\n",
    "3. la tercera"
   ]
  },
  {
   "cell_type": "code",
   "execution_count": 4,
   "id": "4d70ed12",
   "metadata": {},
   "outputs": [
    {
     "name": "stdout",
     "output_type": "stream",
     "text": [
      "3\n"
     ]
    }
   ],
   "source": [
    "x=3\n",
    "y=2\n",
    "x+y\n",
    "print (x)"
   ]
  },
  {
   "cell_type": "code",
   "execution_count": 5,
   "id": "d630ab23",
   "metadata": {},
   "outputs": [
    {
     "name": "stdout",
     "output_type": "stream",
     "text": [
      "5\n",
      "3\n"
     ]
    }
   ],
   "source": [
    "print (x+y)\n",
    "lista=[1,2,3,4]\n",
    "print(lista[2])"
   ]
  },
  {
   "cell_type": "markdown",
   "id": "17f2d8f1",
   "metadata": {},
   "source": [
    "![\"girasol\"](girasol.jpg)\n",
    "Photo by <a href=\"https://unsplash.com/@miekelauren?utm_source=unsplash&utm_medium=referral&utm_content=creditCopyText\">Mieke Campbell</a> on <a href=\"https://unsplash.com/?utm_source=unsplash&utm_medium=referral&utm_content=creditCopyText\">Unsplash</a>\n",
    "  "
   ]
  },
  {
   "cell_type": "markdown",
   "id": "629c518e",
   "metadata": {},
   "source": [
    " **bold**,_italic_\n",
    "\n",
    "H<sub>2 </sub> O\n",
    "    \n"
   ]
  },
  {
   "cell_type": "code",
   "execution_count": 8,
   "id": "c1503b7b",
   "metadata": {},
   "outputs": [
    {
     "name": "stdout",
     "output_type": "stream",
     "text": [
      "10\n"
     ]
    }
   ],
   "source": [
    "suma=0\n",
    "for val in lista:\n",
    "      suma+=val\n",
    "print(suma)\n"
   ]
  },
  {
   "cell_type": "code",
   "execution_count": null,
   "id": "cc56815a",
   "metadata": {},
   "outputs": [],
   "source": []
  }
 ],
 "metadata": {
  "hide_input": false,
  "kernelspec": {
   "display_name": "Python 3",
   "language": "python",
   "name": "python3"
  },
  "language_info": {
   "codemirror_mode": {
    "name": "ipython",
    "version": 3
   },
   "file_extension": ".py",
   "mimetype": "text/x-python",
   "name": "python",
   "nbconvert_exporter": "python",
   "pygments_lexer": "ipython3",
   "version": "3.9.7"
  },
  "toc": {
   "base_numbering": 1,
   "nav_menu": {},
   "number_sections": true,
   "sideBar": true,
   "skip_h1_title": false,
   "title_cell": "Table of Contents",
   "title_sidebar": "Contents",
   "toc_cell": false,
   "toc_position": {},
   "toc_section_display": true,
   "toc_window_display": false
  },
  "varInspector": {
   "cols": {
    "lenName": 16,
    "lenType": 16,
    "lenVar": 40
   },
   "kernels_config": {
    "python": {
     "delete_cmd_postfix": "",
     "delete_cmd_prefix": "del ",
     "library": "var_list.py",
     "varRefreshCmd": "print(var_dic_list())"
    },
    "r": {
     "delete_cmd_postfix": ") ",
     "delete_cmd_prefix": "rm(",
     "library": "var_list.r",
     "varRefreshCmd": "cat(var_dic_list()) "
    }
   },
   "types_to_exclude": [
    "module",
    "function",
    "builtin_function_or_method",
    "instance",
    "_Feature"
   ],
   "window_display": false
  }
 },
 "nbformat": 4,
 "nbformat_minor": 5
}
